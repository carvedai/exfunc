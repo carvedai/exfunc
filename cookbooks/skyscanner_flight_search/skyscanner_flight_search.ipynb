{
 "cells": [
  {
   "cell_type": "markdown",
   "id": "3e35b5e8",
   "metadata": {},
   "source": [
    "# Build an agent for flight search\n",
    "\n",
    "In this cookbook, we'll demonstrate a flight search agent through LangGraph and Exfunc."
   ]
  },
  {
   "cell_type": "markdown",
   "id": "7e1a15f3",
   "metadata": {},
   "source": [
    "## Step 1: Set up the environment\n",
    "\n",
    "First, let's install the required libraries and set up the SDK and clients."
   ]
  },
  {
   "cell_type": "code",
   "execution_count": null,
   "id": "e6644472-33a5-4a66-9acc-154ae25637c7",
   "metadata": {},
   "outputs": [],
   "source": [
    "%pip install -U langgraph langchain langchain-openai"
   ]
  },
  {
   "cell_type": "code",
   "execution_count": null,
   "id": "99844d7d-157d-474c-bc9a-94e9e3131c65",
   "metadata": {},
   "outputs": [],
   "source": [
    "import getpass\n",
    "import os\n",
    "\n",
    "if \"OPENAI_API_KEY\" not in os.environ:\n",
    "    os.environ[\"OPENAI_API_KEY\"] = getpass.getpass(\"OpenAI API key:\\n\")\n",
    "if \"EXFUNC_API_KEY\" not in os.environ:\n",
    "    os.environ[\"EXFUNC_API_KEY\"] = getpass.getpass(\"Exfunc API key:\\n\")"
   ]
  },
  {
   "cell_type": "code",
   "execution_count": null,
   "id": "35311ef8",
   "metadata": {},
   "outputs": [],
   "source": [
    "from langchain_openai import ChatOpenAI\n",
    "from exfunc import Exfunc\n",
    "\n",
    "model = ChatOpenAI(model=\"gpt-4o-mini\")\n",
    "s = Exfunc(api_key=os.getenv(\"EXFUNC_API_KEY\"))"
   ]
  },
  {
   "cell_type": "markdown",
   "id": "b8226627",
   "metadata": {},
   "source": [
    "## Step 2: Add flight search endpoints as tools\n",
    "\n",
    "Next, we will add custom tools of flight search endpoints to the agent."
   ]
  },
  {
   "cell_type": "code",
   "execution_count": null,
   "id": "2db7acbd-98a9-4ecf-b426-4b5342b9df4d",
   "metadata": {},
   "outputs": [],
   "source": [
    "from langchain_core.tools import tool\n",
    "from typing import Annotated\n",
    "\n",
    "@tool\n",
    "def search_one_way_flights(\n",
    "    origin: Annotated[str, \"Origin location\"],\n",
    "    destination: Annotated[str, \"Destination location\"],\n",
    "    depart_date: Annotated[str, \"The date of the departure. The format should be YYYY-MM-DD\"],\n",
    ") -> list:\n",
    "    \"\"\"Search one-way flights on Skyscanner\"\"\"\n",
    "    search_one_way_result = s.skyscanner.search_one_way(request={\n",
    "        \"origin\": origin,\n",
    "        \"destination\": destination,\n",
    "        \"depart_date\": depart_date,\n",
    "    })\n",
    "    return search_one_way_result.itineraries\n",
    "\n",
    "\n",
    "@tool\n",
    "def search_roundtrip_flights(\n",
    "    origin: Annotated[str, \"Origin location\"],\n",
    "    destination: Annotated[str, \"Destination location\"],\n",
    "    depart_date: Annotated[str, \"The date of the departure. The format should be YYYY-MM-DD\"],\n",
    "    return_date: Annotated[str, \"The date of the return. The format should be YYYY-MM-DD\"],\n",
    ") -> list:\n",
    "    \"\"\"Search roundtrip flights on Skyscanner\"\"\"\n",
    "    search_roundtrip_result = s.skyscanner.search_roundtrip(request={\n",
    "        \"origin\": origin,\n",
    "        \"destination\": destination,\n",
    "        \"depart_date\": depart_date,\n",
    "        \"return_date\": return_date,\n",
    "    })\n",
    "    return search_roundtrip_result.itineraries\n",
    "\n",
    "\n",
    "tools = [search_one_way_flights, search_roundtrip_flights]\n",
    "\n",
    "query = \"Search roundtrip flights from san francisco to new york from december 12th to december 19th of 2024\""
   ]
  },
  {
   "cell_type": "markdown",
   "id": "27358b83",
   "metadata": {},
   "source": [
    "## Step 3: Create a pre-built ReAct agent with the tools\n",
    "\n",
    "Using prebuilt agent from LangGraph, you can easily add tools to the agent and invoke with user query."
   ]
  },
  {
   "cell_type": "code",
   "execution_count": null,
   "id": "6cf0ae6d-0d6a-4c6c-93fc-7eafda707302",
   "metadata": {},
   "outputs": [],
   "source": [
    "from langgraph.prebuilt import create_react_agent\n",
    "\n",
    "langgraph_agent_executor = create_react_agent(model, tools)\n",
    "\n",
    "messages = langgraph_agent_executor.invoke({\"messages\": [(\"human\", query)]})\n",
    "{\n",
    "    \"input\": query,\n",
    "    \"output\": messages[\"messages\"][-1].content,\n",
    "}"
   ]
  },
  {
   "cell_type": "markdown",
   "id": "5361b0e8-855d-4813-bcc7-3fc78f7b8d40",
   "metadata": {},
   "source": [
    "## Conclusion\n",
    "\n",
    "That's it! By following this cookbook, you can easily create a flight search agent with LangGraph and Exfunc.\n",
    "\n",
    "If you have any questions or need help, feel free to reach out to us at [Exfunc](https://exfunc.com/)."
   ]
  }
 ],
 "metadata": {
  "kernelspec": {
   "display_name": "Python 3 (ipykernel)",
   "language": "python",
   "name": "python3"
  },
  "language_info": {
   "codemirror_mode": {
    "name": "ipython",
    "version": 3
   },
   "file_extension": ".py",
   "mimetype": "text/x-python",
   "name": "python",
   "nbconvert_exporter": "python",
   "pygments_lexer": "ipython3",
   "version": "3.10.9"
  }
 },
 "nbformat": 4,
 "nbformat_minor": 5
}
