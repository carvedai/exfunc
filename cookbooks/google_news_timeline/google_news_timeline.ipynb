{
 "cells": [
  {
   "cell_type": "markdown",
   "id": "4479c486-82c9-4c83-a17c-f1df7ffd4b5b",
   "metadata": {},
   "source": [
    "# Generate a timeline of UnitedHealthcare CEO shooting\n",
    "\n",
    "Learn how to use Exfunc and OpenAI to generate a timeline based on Google News articles\n",
    "\n",
    "## Getting Started\n",
    "\n",
    "### Install packages"
   ]
  },
  {
   "cell_type": "code",
   "execution_count": null,
   "id": "419dde33-ef7a-4e55-869a-ca86d00e26e8",
   "metadata": {},
   "outputs": [],
   "source": [
    "!pip install exfunc openai"
   ]
  },
  {
   "cell_type": "markdown",
   "id": "de5289b2-4dc8-4448-a32b-551edd95e043",
   "metadata": {},
   "source": [
    "### Configure API keys\n",
    "\n",
    "You will need to provide API keys. You can get your Exfunc API key [here](https://exfunc.com) and your OpenAI API key [here](https://www.openai.com/).\n",
    "\n",
    "Ensure both API keys are accessible in your local environment."
   ]
  },
  {
   "cell_type": "code",
   "execution_count": null,
   "id": "0453cfd8-226e-4982-a091-980d9c91d66c",
   "metadata": {},
   "outputs": [],
   "source": [
    "import getpass\n",
    "import os\n",
    "\n",
    "if \"OPENAI_API_KEY\" not in os.environ:\n",
    "    os.environ[\"OPENAI_API_KEY\"] = getpass.getpass(\"OpenAI API key:\\n\")\n",
    "if \"EXFUNC_API_KEY\" not in os.environ:\n",
    "    os.environ[\"EXFUNC_API_KEY\"] = getpass.getpass(\"Exfunc API key:\\n\")"
   ]
  },
  {
   "cell_type": "markdown",
   "id": "194c79ae-b910-4e17-8974-bbd176db357a",
   "metadata": {},
   "source": [
    "### Configure clients"
   ]
  },
  {
   "cell_type": "code",
   "execution_count": null,
   "id": "3c737ad3-d4bf-4624-a843-6a279dd91d10",
   "metadata": {},
   "outputs": [],
   "source": [
    "from exfunc import Exfunc\n",
    "from openai import OpenAI\n",
    "\n",
    "exfunc = Exfunc()\n",
    "openai = OpenAI()"
   ]
  },
  {
   "cell_type": "markdown",
   "id": "84554b0a-ec88-4cbc-bf7c-79cb9e3b57d6",
   "metadata": {},
   "source": [
    "## Generating a timeline based on Google News articles\n",
    "\n",
    "### Search news"
   ]
  },
  {
   "cell_type": "code",
   "execution_count": null,
   "id": "438a782a-c44b-4046-a9a2-958c1db6f831",
   "metadata": {},
   "outputs": [],
   "source": [
    "search_news_response = exfunc.google.search_news(request={\n",
    "    \"query\": \"unitedhealthcare ceo shooting\",\n",
    "})\n",
    "urls = [item.link for item in search_news_response.news]"
   ]
  },
  {
   "cell_type": "markdown",
   "id": "8831c080-07b2-4b20-a6ea-13a64c645adc",
   "metadata": {},
   "source": [
    "### Get articles in markdown"
   ]
  },
  {
   "cell_type": "code",
   "execution_count": null,
   "id": "f36fdfdc-e293-4960-a1bf-0bc880edf74e",
   "metadata": {},
   "outputs": [],
   "source": [
    "from concurrent.futures import ThreadPoolExecutor\n",
    "\n",
    "def get_markdown(url):\n",
    "    max_len = 10000\n",
    "    try:\n",
    "        response = exfunc.navigator.scrape(request={\"url\": url})\n",
    "        return response.markdown[:max_len]\n",
    "    except:\n",
    "        return None\n",
    "\n",
    "markdowns = []\n",
    "with ThreadPoolExecutor(max_workers=min(10, len(urls))) as executor:\n",
    "    for markdown in executor.map(get_markdown, urls):\n",
    "        if markdown:\n",
    "            markdowns.append(markdown)"
   ]
  },
  {
   "cell_type": "markdown",
   "id": "42fcc605-c32b-4fbd-a68c-8661bb6cfef7",
   "metadata": {},
   "source": [
    "### Generate timeline"
   ]
  },
  {
   "cell_type": "code",
   "execution_count": null,
   "id": "fe550f15-1403-4155-8e5a-40086ef492d9",
   "metadata": {
    "scrolled": true
   },
   "outputs": [],
   "source": [
    "response = openai.chat.completions.create(\n",
    "    model=\"gpt-4o-mini\",\n",
    "    messages=[\n",
    "        {\"role\": \"system\", \"content\": \"Generate a timeline of events.\"},\n",
    "        {\"role\": \"user\", \"content\": \"\\n\\n\".join(markdowns)}\n",
    "    ],\n",
    "    temperature=0\n",
    ")\n",
    "\n",
    "completion = response.choices[0].message.content.strip()"
   ]
  },
  {
   "cell_type": "code",
   "execution_count": null,
   "id": "f1d29c14-6a74-4f2c-b622-1edce9defaad",
   "metadata": {
    "scrolled": true
   },
   "outputs": [],
   "source": [
    "from IPython.display import display, Markdown\n",
    "\n",
    "display(Markdown(completion))"
   ]
  }
 ],
 "metadata": {
  "kernelspec": {
   "display_name": "Python 3 (ipykernel)",
   "language": "python",
   "name": "python3"
  },
  "language_info": {
   "codemirror_mode": {
    "name": "ipython",
    "version": 3
   },
   "file_extension": ".py",
   "mimetype": "text/x-python",
   "name": "python",
   "nbconvert_exporter": "python",
   "pygments_lexer": "ipython3",
   "version": "3.11.4"
  }
 },
 "nbformat": 4,
 "nbformat_minor": 5
}
