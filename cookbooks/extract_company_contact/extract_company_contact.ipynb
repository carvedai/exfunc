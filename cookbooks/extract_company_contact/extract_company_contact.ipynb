{
 "cells": [
  {
   "cell_type": "markdown",
   "id": "05546067-ddf3-4f11-b2d8-f5508b56a46d",
   "metadata": {},
   "source": [
    "# Extract contact information from a company website\n",
    "\n",
    "Learn how to use Exfunc to extract contact information from a company website.\n",
    "\n",
    "## Getting Started\n",
    "\n",
    "### Install packages"
   ]
  },
  {
   "cell_type": "code",
   "execution_count": null,
   "id": "a09f24c8-8717-4f40-b310-898aa7b69625",
   "metadata": {},
   "outputs": [],
   "source": [
    "!pip install exfunc openai"
   ]
  },
  {
   "cell_type": "markdown",
   "id": "2749a88d-9271-4ef8-9467-55f6d66b63bd",
   "metadata": {},
   "source": [
    "### Configure API keys\n",
    "\n",
    "You will need to provide API keys. You can get your Exfunc API key [here](https://exfunc.com).\n",
    "\n",
    "Ensure API key is accessible in your local environment."
   ]
  },
  {
   "cell_type": "code",
   "execution_count": null,
   "id": "e3fe5119-45dd-4234-b7e7-dd617dbe3a74",
   "metadata": {},
   "outputs": [],
   "source": [
    "import getpass\n",
    "import os\n",
    "\n",
    "if \"EXFUNC_API_KEY\" not in os.environ:\n",
    "    os.environ[\"EXFUNC_API_KEY\"] = getpass.getpass(\"Exfunc API key:\\n\")\n",
    "if \"OPENAI_API_KEY\" not in os.environ:\n",
    "    os.environ[\"OPENAI_API_KEY\"] = getpass.getpass(\"OpenAI API key:\\n\")"
   ]
  },
  {
   "cell_type": "markdown",
   "id": "56efef4d-af2d-4486-b8c7-41236a8c737f",
   "metadata": {},
   "source": [
    "### Configure clients"
   ]
  },
  {
   "cell_type": "code",
   "execution_count": null,
   "id": "0ad0643d-fddc-4fbf-a17d-5d3a99563c7a",
   "metadata": {},
   "outputs": [],
   "source": [
    "from exfunc import Exfunc\n",
    "from openai import OpenAI\n",
    "\n",
    "exfunc = Exfunc()\n",
    "openai = OpenAI()"
   ]
  },
  {
   "cell_type": "markdown",
   "id": "37d0ed3b-aec8-4868-9a19-ed38b4e13964",
   "metadata": {},
   "source": [
    "## Extracting contact information\n",
    "\n",
    "### Start a navigator task"
   ]
  },
  {
   "cell_type": "code",
   "execution_count": null,
   "id": "572cf6db-9317-456d-8d40-af01931ad8c0",
   "metadata": {},
   "outputs": [],
   "source": [
    "company_website_url = \"https://www.sfpuppylove.com\"\n",
    "objective = \"find contact info\"\n",
    "\n",
    "start_task_response = exfunc.navigator.start_task(request={\n",
    "    \"url\": company_website_url,\n",
    "    \"objective\": objective\n",
    "})\n",
    "\n",
    "task_id = start_task_response.task_id"
   ]
  },
  {
   "cell_type": "markdown",
   "id": "1e149ad8-63f6-49f9-a73d-d8d5f297550d",
   "metadata": {},
   "source": [
    "### Wait for navigator task to finish"
   ]
  },
  {
   "cell_type": "code",
   "execution_count": null,
   "id": "d965ac45-4010-4c2d-a14b-465ba1931fb5",
   "metadata": {
    "scrolled": true
   },
   "outputs": [],
   "source": [
    "import json\n",
    "import time\n",
    "\n",
    "t = time.time()\n",
    "max_wait_time_in_secs = 900  # 15 min\n",
    "while int(time.time() - t) <= max_wait_time_in_secs:\n",
    "    get_task_response = exfunc.navigator.get_task(request={\n",
    "        \"task_id\": task_id,\n",
    "    })\n",
    "    task = get_task_response.task\n",
    "    print(f\"Task status: {task.status.value}\")\n",
    "    if task.status.value in [\"SUCCEEDED\", \"FAILED\"]:\n",
    "        break\n",
    "    time.sleep(10)"
   ]
  },
  {
   "cell_type": "markdown",
   "id": "3b0ecef4-47e0-4fbd-bbfa-9b15204d917f",
   "metadata": {},
   "source": [
    "### Extract contact information from page screenshot"
   ]
  },
  {
   "cell_type": "code",
   "execution_count": null,
   "id": "44de7746-8aef-427d-8b34-241745e7a2fe",
   "metadata": {},
   "outputs": [],
   "source": [
    "response = openai.chat.completions.create(\n",
    "    model=\"gpt-4o-mini\",\n",
    "    messages=[\n",
    "        {\n",
    "            \"role\": \"user\",\n",
    "            \"content\": [\n",
    "                { \"type\": \"text\", \"text\": \"Extract contact information from the screenshot.\" },\n",
    "                {\"type\": \"image_url\", \"image_url\": {\"url\": f\"data:image/png;base64,{task.response.img}\"}},\n",
    "            ],\n",
    "        },\n",
    "    ],\n",
    "    temperature=0\n",
    ")\n",
    "completion = response.choices[0].message.content\n",
    "print(completion)"
   ]
  }
 ],
 "metadata": {
  "kernelspec": {
   "display_name": "Python 3 (ipykernel)",
   "language": "python",
   "name": "python3"
  },
  "language_info": {
   "codemirror_mode": {
    "name": "ipython",
    "version": 3
   },
   "file_extension": ".py",
   "mimetype": "text/x-python",
   "name": "python",
   "nbconvert_exporter": "python",
   "pygments_lexer": "ipython3",
   "version": "3.11.4"
  }
 },
 "nbformat": 4,
 "nbformat_minor": 5
}
