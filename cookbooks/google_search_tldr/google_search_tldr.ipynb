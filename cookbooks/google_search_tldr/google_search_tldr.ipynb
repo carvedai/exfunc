{
 "cells": [
  {
   "cell_type": "markdown",
   "id": "75ae447d-387d-4b91-8456-ecd89388ceb4",
   "metadata": {},
   "source": [
    "# Generate a TLDR of Google search results on Trump cabinet picks\n",
    "\n",
    "Learn how to use Exfunc and OpenAI to generate a TLDR of Google search results\n",
    "\n",
    "## Getting Started\n",
    "\n",
    "### Install packages"
   ]
  },
  {
   "cell_type": "code",
   "execution_count": null,
   "id": "15deddde-0d6d-451c-bc91-a22e587b1b1d",
   "metadata": {},
   "outputs": [],
   "source": [
    "!pip install exfunc openai"
   ]
  },
  {
   "cell_type": "markdown",
   "id": "eea78d6e-3c20-4fab-a772-e77d90d99961",
   "metadata": {},
   "source": [
    "### Configure API keys\n",
    "\n",
    "You will need to provide API keys. You can get your Exfunc API key [here](https://exfunc.com) and your OpenAI API key [here](https://www.openai.com/).\n",
    "\n",
    "Ensure both API keys are accessible in your local environment.\n"
   ]
  },
  {
   "cell_type": "code",
   "execution_count": null,
   "id": "5de53600-ea37-4e8d-a812-83599abe2fbb",
   "metadata": {},
   "outputs": [],
   "source": [
    "import getpass\n",
    "import os\n",
    "\n",
    "if \"OPENAI_API_KEY\" not in os.environ:\n",
    "    os.environ[\"OPENAI_API_KEY\"] = getpass.getpass(\"OpenAI API key:\\n\")\n",
    "if \"EXFUNC_API_KEY\" not in os.environ:\n",
    "    os.environ[\"EXFUNC_API_KEY\"] = getpass.getpass(\"Exfunc API key:\\n\")"
   ]
  },
  {
   "cell_type": "markdown",
   "id": "d40eabcb-d23e-48cb-be0d-b3ac34ab7a65",
   "metadata": {},
   "source": [
    "### Configure clients"
   ]
  },
  {
   "cell_type": "code",
   "execution_count": null,
   "id": "3208f09e-c394-42a5-8bb6-38eaefc69360",
   "metadata": {},
   "outputs": [],
   "source": [
    "from exfunc import Exfunc\n",
    "from openai import OpenAI\n",
    "\n",
    "exfunc = Exfunc()\n",
    "openai = OpenAI()"
   ]
  },
  {
   "cell_type": "markdown",
   "id": "7e598831-ece4-4e0b-a6b3-22a51cf7970e",
   "metadata": {},
   "source": [
    "## Generating a TLDR of Google search results\n",
    "\n",
    "### Search web"
   ]
  },
  {
   "cell_type": "code",
   "execution_count": null,
   "id": "605bf30c-4dae-482d-b4f3-ef345c71954a",
   "metadata": {},
   "outputs": [],
   "source": [
    "search_web_response = exfunc.google.search_web(request={\n",
    "    \"query\": \"trump cabinet picks\",\n",
    "    \"count\": 10,\n",
    "})\n",
    "urls = [item.url for item in search_web_response.results]"
   ]
  },
  {
   "cell_type": "markdown",
   "id": "c138d61b-1254-4e9f-bf7e-c5ca5b939df0",
   "metadata": {},
   "source": [
    "### Get articles in markdown"
   ]
  },
  {
   "cell_type": "code",
   "execution_count": null,
   "id": "e4f9b5d1-7bf2-4dd9-a922-f755fb28ca29",
   "metadata": {},
   "outputs": [],
   "source": [
    "from concurrent.futures import ThreadPoolExecutor\n",
    "\n",
    "def get_markdown(url):\n",
    "    max_len = 10000\n",
    "    try:\n",
    "        response = exfunc.navigator.scrape(request={\"url\": url})\n",
    "        return response.markdown[:max_len]\n",
    "    except:\n",
    "        return None\n",
    "\n",
    "markdowns = []\n",
    "with ThreadPoolExecutor(max_workers=min(10, len(urls))) as executor:\n",
    "    for markdown in executor.map(get_markdown, urls):\n",
    "        if markdown:\n",
    "            markdowns.append(markdown)"
   ]
  },
  {
   "cell_type": "markdown",
   "id": "adb49ea9-03af-4e99-95c7-6452fe1865f5",
   "metadata": {},
   "source": [
    "### Generate TLDR"
   ]
  },
  {
   "cell_type": "code",
   "execution_count": null,
   "id": "fcd5788f-1dd5-4627-8a9d-62c1dec217db",
   "metadata": {},
   "outputs": [],
   "source": [
    "response = openai.chat.completions.create(\n",
    "    model=\"gpt-4o-mini\",\n",
    "    messages=[\n",
    "        {\"role\": \"system\", \"content\": \"TLDR in bullet points.\"},\n",
    "        {\"role\": \"user\", \"content\": \"\\n\\n\".join(markdowns)}\n",
    "    ],\n",
    "    temperature=0\n",
    ")\n",
    "\n",
    "completion = response.choices[0].message.content.strip()"
   ]
  },
  {
   "cell_type": "code",
   "execution_count": null,
   "id": "57afba18-c787-48ce-b4cf-2cfa1bdd99ce",
   "metadata": {},
   "outputs": [],
   "source": [
    "from IPython.display import display, Markdown\n",
    "\n",
    "display(Markdown(completion))"
   ]
  }
 ],
 "metadata": {
  "kernelspec": {
   "display_name": "Python 3 (ipykernel)",
   "language": "python",
   "name": "python3"
  },
  "language_info": {
   "codemirror_mode": {
    "name": "ipython",
    "version": 3
   },
   "file_extension": ".py",
   "mimetype": "text/x-python",
   "name": "python",
   "nbconvert_exporter": "python",
   "pygments_lexer": "ipython3",
   "version": "3.11.4"
  }
 },
 "nbformat": 4,
 "nbformat_minor": 5
}
