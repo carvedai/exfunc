{
 "cells": [
  {
   "cell_type": "markdown",
   "id": "1028fac0-1245-41c1-bb16-8ad999f592e1",
   "metadata": {},
   "source": [
    "# Find VP / head of engineering at recently funded, mid-sized tech companies in US\n",
    "\n",
    "Learn how to use Exfunc and OpenAI to find decision makers on LinkedIn.\n",
    "\n",
    "## Getting Started\n",
    "\n",
    "### Install packages"
   ]
  },
  {
   "cell_type": "code",
   "execution_count": null,
   "id": "83572339-26e8-4ce6-a45a-0fd1915531b2",
   "metadata": {},
   "outputs": [],
   "source": [
    "!pip install exfunc openai"
   ]
  },
  {
   "cell_type": "markdown",
   "id": "0dc7d95a-547e-4940-b561-05e7b78c6c44",
   "metadata": {},
   "source": [
    "### Configure API keys\n",
    "\n",
    "You will need to provide API keys. You can get your Exfunc API key [here](https://exfunc.com) and your OpenAI API key [here](https://www.openai.com/).\n",
    "\n",
    "Ensure both API keys are accessible in your local environment.\n"
   ]
  },
  {
   "cell_type": "code",
   "execution_count": null,
   "id": "db5f59e7-6611-47c2-8341-1c6e9b77b718",
   "metadata": {},
   "outputs": [],
   "source": [
    "import getpass\n",
    "import os\n",
    "\n",
    "if \"OPENAI_API_KEY\" not in os.environ:\n",
    "    os.environ[\"OPENAI_API_KEY\"] = getpass.getpass(\"OpenAI API key:\\n\")\n",
    "if \"EXFUNC_API_KEY\" not in os.environ:\n",
    "    os.environ[\"EXFUNC_API_KEY\"] = getpass.getpass(\"Exfunc API key:\\n\")"
   ]
  },
  {
   "cell_type": "markdown",
   "id": "18327a82-f8c3-49e7-8688-604673ff292a",
   "metadata": {},
   "source": [
    "### Configure clients"
   ]
  },
  {
   "cell_type": "code",
   "execution_count": null,
   "id": "ab52d094-2a6a-42ad-875d-dcf552b8a2e7",
   "metadata": {},
   "outputs": [],
   "source": [
    "from exfunc import Exfunc\n",
    "from openai import OpenAI\n",
    "\n",
    "exfunc = Exfunc()\n",
    "openai = OpenAI()"
   ]
  },
  {
   "cell_type": "markdown",
   "id": "cd9ae652-ccdc-4020-b11e-044ff8e08026",
   "metadata": {},
   "source": [
    "## Finding recently funded, mid-sized tech companies in US\n",
    "\n",
    "### Search mid-sized tech companies in US"
   ]
  },
  {
   "cell_type": "code",
   "execution_count": null,
   "id": "23d78d49-8809-4cab-9039-2e852532616c",
   "metadata": {},
   "outputs": [],
   "source": [
    "num_pages = 1\n",
    "company_linkedin_urls = []\n",
    "for i in range(num_pages):\n",
    "    search_results = exfunc.linkedin.search_companies(request={\n",
    "        \"locations\": [\"United States\"],\n",
    "        \"sizes\": [\"11-50\", \"51-200\", \"201-500\"],\n",
    "            \"industries\": [\n",
    "            \"computer & network security\",\n",
    "            \"computer games\",\n",
    "            \"computer hardware\",\n",
    "            \"computer networking\",\n",
    "            \"computer software\",\n",
    "            \"e-learning\",\n",
    "            \"information services\",\n",
    "            \"information technology & services\",\n",
    "            \"internet\",\n",
    "            \"semiconductors\",\n",
    "            \"telecommunications\",\n",
    "            \"wireless\"\n",
    "        ],\n",
    "        \"page\": i+1,\n",
    "    })\n",
    "    company_linkedin_urls += [company.url for company in search_results.companies]\n",
    "\n",
    "# dedup in case there are duplicate URLs\n",
    "company_linkedin_urls = list(set(company_linkedin_urls))"
   ]
  },
  {
   "cell_type": "markdown",
   "id": "f21ce200-1821-4701-9dfe-c39d225b0099",
   "metadata": {},
   "source": [
    "### Get company funding information\n",
    "\n",
    "We will get funding information by calling LinkedIn GetCompany API for each company."
   ]
  },
  {
   "cell_type": "code",
   "execution_count": null,
   "id": "19733f10-e49b-42ad-aa05-ae89043bff05",
   "metadata": {},
   "outputs": [],
   "source": [
    "from concurrent.futures import ThreadPoolExecutor\n",
    "\n",
    "def get_company(company_url):\n",
    "    try:\n",
    "        response = exfunc.linkedin.get_company(request={\"company_url\": company_url})\n",
    "        return response.company\n",
    "    except:\n",
    "        return None\n",
    "\n",
    "companies = []\n",
    "with ThreadPoolExecutor(max_workers=min(10, len(company_linkedin_urls))) as executor:\n",
    "    for company in executor.map(get_company, company_linkedin_urls):\n",
    "        if company:\n",
    "            companies.append(company)"
   ]
  },
  {
   "cell_type": "markdown",
   "id": "583de751-18eb-4167-b31f-a54db119cc36",
   "metadata": {},
   "source": [
    "### Filter recently funded companies"
   ]
  },
  {
   "cell_type": "code",
   "execution_count": null,
   "id": "ff538aef-ac8a-4393-bc77-d0c81a73a9e5",
   "metadata": {},
   "outputs": [],
   "source": [
    "from datetime import datetime, timedelta\n",
    "\n",
    "def has_recent_funding_round(funding_details):\n",
    "    num_days = 180  # 6 months\n",
    "    date_posted = funding_details.last_round.date_posted\n",
    "    if not date_posted:\n",
    "        return False\n",
    "\n",
    "    last_round_date = datetime.strptime(date_posted, \"%Y-%m-%d\")\n",
    "    cutoff_date = datetime.now() - timedelta(days=num_days)\n",
    "    return last_round_date >= cutoff_date\n",
    "\n",
    "recently_funded_companies = []\n",
    "for company in companies:\n",
    "    recently_funded = has_recent_funding_round(company.funding)\n",
    "    if recently_funded:\n",
    "        recently_funded_companies.append(company)"
   ]
  },
  {
   "cell_type": "markdown",
   "id": "d7ced6af-3c7d-44fd-9bb2-75e8c2fe40ad",
   "metadata": {},
   "source": [
    "## Finding VP / head of engineering people\n",
    "\n",
    "### Search decision makers"
   ]
  },
  {
   "cell_type": "code",
   "execution_count": null,
   "id": "c10f880b-1ca8-46f1-99e0-655be240dfe5",
   "metadata": {},
   "outputs": [],
   "source": [
    "decision_makers = {}\n",
    "for company in recently_funded_companies:\n",
    "    search_results = exfunc.linkedin.search_people(request={\n",
    "        \"company_domains\": [company.website_url],\n",
    "        \"seniorities\": [\"vp\", \"head\", \"director\"],\n",
    "    })\n",
    "    if search_results.people:\n",
    "        decision_makers[company.url] = search_results.people"
   ]
  },
  {
   "cell_type": "markdown",
   "id": "b4f766b8-d850-42d7-99b1-7ed0b8997ab6",
   "metadata": {},
   "source": [
    "### Filter engineering people"
   ]
  },
  {
   "cell_type": "code",
   "execution_count": null,
   "id": "29207f91-0ebf-4d43-967a-65509db76e95",
   "metadata": {},
   "outputs": [],
   "source": [
    "def qualify_job_title(person):\n",
    "    target_description = \"decision maker in engineering\"\n",
    "    prompt = f'Answer True or False: Does \"{person.title}\" match the description: \"{target_description}\"?\\n'\n",
    "    messages = [{\"role\": \"user\", \"content\": prompt}]\n",
    "    response = openai.chat.completions.create(messages=messages, temperature=0, model=\"gpt-4o-mini\")\n",
    "    completion = response.choices[0].message.content.strip()\n",
    "    return \"true\" in completion.lower()\n",
    "\n",
    "filtered_people = []\n",
    "for company_linkedin_url in decision_makers:\n",
    "    people = decision_makers[company_linkedin_url]\n",
    "    with ThreadPoolExecutor(max_workers=min(10, len(people))) as executor:\n",
    "        for i, is_qualified in enumerate(executor.map(qualify_job_title, people)):\n",
    "            if is_qualified:\n",
    "                filtered_people.append(people[i])"
   ]
  },
  {
   "cell_type": "markdown",
   "id": "3ed468bf-e3ad-4f5f-b637-864bbe916967",
   "metadata": {},
   "source": [
    "### View results"
   ]
  },
  {
   "cell_type": "code",
   "execution_count": null,
   "id": "ea333273-c7d6-481a-bdb4-1ab69b0dc01c",
   "metadata": {},
   "outputs": [],
   "source": [
    "import pandas as pd\n",
    "\n",
    "records = [person.model_dump() for person in filtered_people]\n",
    "\n",
    "df = pd.DataFrame.from_records(records)\n",
    "df"
   ]
  }
 ],
 "metadata": {
  "kernelspec": {
   "display_name": "Python 3 (ipykernel)",
   "language": "python",
   "name": "python3"
  },
  "language_info": {
   "codemirror_mode": {
    "name": "ipython",
    "version": 3
   },
   "file_extension": ".py",
   "mimetype": "text/x-python",
   "name": "python",
   "nbconvert_exporter": "python",
   "pygments_lexer": "ipython3",
   "version": "3.11.4"
  }
 },
 "nbformat": 4,
 "nbformat_minor": 5
}
