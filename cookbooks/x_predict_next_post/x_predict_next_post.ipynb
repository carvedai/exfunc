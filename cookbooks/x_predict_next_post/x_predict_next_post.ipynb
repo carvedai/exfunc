{
 "cells": [
  {
   "cell_type": "markdown",
   "id": "bb58196d-e5e1-4ad1-9638-47bc1240dcc6",
   "metadata": {},
   "source": [
    "# Predict Elon Musk's next post based on his posts on X\n",
    "\n",
    "Learn how to use Exfunc and OpenAI to predict Elon Musk's next post on X\n",
    "\n",
    "## Getting Started\n",
    "\n",
    "### Install packages"
   ]
  },
  {
   "cell_type": "code",
   "execution_count": null,
   "id": "536d969d-1fbe-45e2-a2c1-b4e2c8e805c9",
   "metadata": {},
   "outputs": [],
   "source": [
    "!pip install exfunc openai"
   ]
  },
  {
   "cell_type": "markdown",
   "id": "61ca36b2-b530-405d-abe1-6338c3b5d4c9",
   "metadata": {},
   "source": [
    "### Configure API keys\n",
    "\n",
    "You will need to provide API keys. You can get your Exfunc API key [here](https://exfunc.com) and your OpenAI API key [here](https://www.openai.com/).\n",
    "\n",
    "Ensure both API keys are accessible in your local environment."
   ]
  },
  {
   "cell_type": "code",
   "execution_count": null,
   "id": "57cbd585-6296-4e50-8dad-c93338d02b29",
   "metadata": {},
   "outputs": [],
   "source": [
    "import getpass\n",
    "import os\n",
    "\n",
    "if \"OPENAI_API_KEY\" not in os.environ:\n",
    "    os.environ[\"OPENAI_API_KEY\"] = getpass.getpass(\"OpenAI API key:\\n\")\n",
    "if \"EXFUNC_API_KEY\" not in os.environ:\n",
    "    os.environ[\"EXFUNC_API_KEY\"] = getpass.getpass(\"Exfunc API key:\\n\")"
   ]
  },
  {
   "cell_type": "markdown",
   "id": "6d614562-83fe-4064-88e4-53dd8e8d0541",
   "metadata": {},
   "source": [
    "### Configure clients"
   ]
  },
  {
   "cell_type": "code",
   "execution_count": null,
   "id": "3f344d77-64e7-43e9-8769-93596eb8f149",
   "metadata": {},
   "outputs": [],
   "source": [
    "from exfunc import Exfunc\n",
    "from openai import OpenAI\n",
    "\n",
    "exfunc = Exfunc()\n",
    "openai = OpenAI()"
   ]
  },
  {
   "cell_type": "markdown",
   "id": "81c3a06b-1311-44af-83e4-a0b5c67a05b8",
   "metadata": {},
   "source": [
    "## Predicting Elon Musk's next post\n",
    "\n",
    "### Search users"
   ]
  },
  {
   "cell_type": "code",
   "execution_count": null,
   "id": "58e827d3-0eb4-4868-ae2c-307723ec045c",
   "metadata": {},
   "outputs": [],
   "source": [
    "query = \"Elon Musk\"\n",
    "search_users_response = exfunc.twitter.search_users(request={\n",
    "    \"query\": query,\n",
    "})\n",
    "username = search_users_response.users[0].username"
   ]
  },
  {
   "cell_type": "markdown",
   "id": "03149888-7fcb-4f8a-8474-c8df98b17eda",
   "metadata": {},
   "source": [
    "### Get posts"
   ]
  },
  {
   "cell_type": "code",
   "execution_count": null,
   "id": "cd9a9e7d-ff0a-47a5-869a-9b406801006d",
   "metadata": {},
   "outputs": [],
   "source": [
    "import json\n",
    "\n",
    "get_user_tweets_response = exfunc.twitter.get_user_tweets(request={\n",
    "    \"username\": username,\n",
    "    \"count\": 100,\n",
    "})\n",
    "posts = [tweet.model_dump() for tweet in get_user_tweets_response.tweets]\n",
    "print(json.dumps(posts, indent=4))"
   ]
  },
  {
   "cell_type": "markdown",
   "id": "280512cf-bafb-474d-aba7-66f93bcd2f0f",
   "metadata": {},
   "source": [
    "### Predict next post"
   ]
  },
  {
   "cell_type": "code",
   "execution_count": null,
   "id": "51ad5a81-6b37-435b-be26-0c61d5f4dee7",
   "metadata": {},
   "outputs": [],
   "source": [
    "posts_str = \"\\n\\n\".join([post[\"full_text\"] for post in posts])\n",
    "prompt = f\"Predict {query}'s next post based on posts. Return only the post body in your reply.\\n\\nPosts:\\n{posts_str}\"\n",
    "\n",
    "response = openai.chat.completions.create(\n",
    "    model=\"gpt-4o-mini\",\n",
    "    messages=[{\"role\": \"user\", \"content\": prompt}],\n",
    "    temperature=0.7\n",
    ")\n",
    "\n",
    "completion = response.choices[0].message.content.strip()\n",
    "print(completion)"
   ]
  }
 ],
 "metadata": {
  "kernelspec": {
   "display_name": "Python 3 (ipykernel)",
   "language": "python",
   "name": "python3"
  },
  "language_info": {
   "codemirror_mode": {
    "name": "ipython",
    "version": 3
   },
   "file_extension": ".py",
   "mimetype": "text/x-python",
   "name": "python",
   "nbconvert_exporter": "python",
   "pygments_lexer": "ipython3",
   "version": "3.11.4"
  }
 },
 "nbformat": 4,
 "nbformat_minor": 5
}
