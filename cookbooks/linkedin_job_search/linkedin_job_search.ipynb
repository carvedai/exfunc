{
 "cells": [
  {
   "cell_type": "markdown",
   "metadata": {},
   "source": [
    "# Search Job Postings on LinkedIn with Exfunc\n",
    "\n",
    "In this cookbook, we'll demonstrate how to search and filter job posting data from LinkedIn using Exfunc APIs"
   ]
  },
  {
   "cell_type": "markdown",
   "metadata": {},
   "source": [
    "## Step 1: Set up the environment\n",
    "\n",
    "First, let's install the required libraries and set up the Exfunc Python SDK and OpenAI client."
   ]
  },
  {
   "cell_type": "code",
   "execution_count": null,
   "metadata": {},
   "outputs": [],
   "source": [
    "%pip install exfunc openai"
   ]
  },
  {
   "cell_type": "code",
   "execution_count": null,
   "metadata": {},
   "outputs": [],
   "source": [
    "from exfunc import Exfunc\n",
    "from openai import OpenAI\n",
    "\n",
    "sdk = Exfunc(\n",
    "    api_key=\"YOUR_EXFUNC_API_KEY\" # Get your API key from https://exfunc.com/\n",
    ")\n",
    "openai_client = OpenAI(\n",
    "    api_key=\"YOUR_OPENAI_API_KEY\"\n",
    ")"
   ]
  },
  {
   "cell_type": "markdown",
   "metadata": {},
   "source": [
    "## Step 2: Search LinkedIn job postings \n",
    "\n",
    "Next, we will search LinkedIn job postings with keywords and other criteria. This example will search for software engineer jobs in the US posted within last 24 hours. search-job-postings endpoint returns 10 results, so we will iterate through 5 pages to gather 50 results."
   ]
  },
  {
   "cell_type": "code",
   "execution_count": null,
   "metadata": {},
   "outputs": [],
   "source": [
    "job_postings = []\n",
    "for i in range(1, 6):\n",
    "    job_postings_result = sdk.linkedin.search_job_postings(request={\n",
    "        \"keywords\": \"software engineer\", # Replace with any keywords you'd like to search\n",
    "        \"location\": \"US\",\n",
    "        \"date_posted\": \"Past 24 hours\",\n",
    "        \"page\": i\n",
    "    })\n",
    "    job_postings.extend(job_postings_result.job_postings)\n",
    "\n",
    "print(job_postings)"
   ]
  },
  {
   "cell_type": "markdown",
   "metadata": {},
   "source": [
    "## Step 3: Enrich and filter job postings\n",
    "\n",
    "Since we now have job posting urls from the search result, we can use it to enrich job posting details and filter based on criteria. For this particular example, we will filter based on job requirements mentioning AWS. Outputs the results as csv."
   ]
  },
  {
   "cell_type": "code",
   "execution_count": null,
   "metadata": {},
   "outputs": [],
   "source": [
    "import csv\n",
    "\n",
    "def does_job_description_mention_aws(job_description):\n",
    "    prompt = f\"Return 'True' or 'False': please determine whether the job description requires AWS as a requirement.\\n\\nJob description:{job_description}\"\n",
    "\n",
    "    # OpenAI API call\n",
    "    response = openai_client.chat.completions.create(\n",
    "        model=\"gpt-4o-mini\",\n",
    "        messages=[\n",
    "            {\"role\": \"system\", \"content\": \"You are an expert at reviewing and analyzing job posting descriptions.\"},\n",
    "            {\"role\": \"user\", \"content\": prompt}\n",
    "        ],\n",
    "        max_tokens=10,\n",
    "        temperature=0\n",
    "    )\n",
    "\n",
    "    # Extract sentiment from response\n",
    "    mentions_aws = response.choices[0].message.content.strip()\n",
    "    return mentions_aws\n",
    "\n",
    "qualified_jobs = []\n",
    "for job_posting in job_postings:\n",
    "    get_job_posting_resp = sdk.linkedin.get_job_posting(request={\n",
    "        \"job_posting_url\": job_posting.url\n",
    "    })\n",
    "    job_posting_detail = get_job_posting_resp.job_posting\n",
    "    job_description = job_posting_detail.description\n",
    "    mentions_aws = does_job_description_mention_aws(job_description)\n",
    "    if 'true' in mentions_aws.lower():\n",
    "        qualified_jobs.append(job_posting_detail)\n",
    "\n",
    "with open('linkedin_search_results_filtered.csv', 'w',) as csvfile:\n",
    "    writer = csv.writer(csvfile)\n",
    "    writer.writerow(['url', 'title', 'location', 'description', 'job_type', 'job_function', 'industries', 'seniority_level', 'applicants', 'date_posted', 'job_poster_name', 'job_poster_url', 'company_name', 'company_url'])\n",
    "    for job_posting in qualified_jobs:\n",
    "        writer.writerow([job_posting.url, job_posting.title, job_posting.location, job_posting.description, job_posting.job_type, job_posting.job_function, job_posting.industries, job_posting.seniority_level, job_posting.applicants, job_posting.date_posted, job_posting.job_poster_name, job_posting.job_poster_url, job_posting.company_name, job_posting.company_url])"
   ]
  }
 ],
 "metadata": {
  "kernelspec": {
   "display_name": "Python 3 (ipykernel)",
   "language": "python",
   "name": "python3"
  },
  "language_info": {
   "codemirror_mode": {
    "name": "ipython",
    "version": 3
   },
   "file_extension": ".py",
   "mimetype": "text/x-python",
   "name": "python",
   "nbconvert_exporter": "python",
   "pygments_lexer": "ipython3",
   "version": "3.10.9"
  }
 },
 "nbformat": 4,
 "nbformat_minor": 4
}
