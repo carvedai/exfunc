{
 "cells": [
  {
   "cell_type": "markdown",
   "id": "3e35b5e8",
   "metadata": {},
   "source": [
    "# LangGraph ReAct Agent Example\n",
    "\n",
    "In this cookbook, we'll demonstrate a basic LangGraph ReAct agent using Exfunc."
   ]
  },
  {
   "cell_type": "markdown",
   "id": "7e1a15f3",
   "metadata": {},
   "source": [
    "## Step 1: Set up the environment\n",
    "\n",
    "First, let's install the required libraries and set up the SDK and clients."
   ]
  },
  {
   "cell_type": "code",
   "execution_count": null,
   "id": "e6644472-33a5-4a66-9acc-154ae25637c7",
   "metadata": {},
   "outputs": [],
   "source": [
    "%pip install -U langgraph langchain langchain-openai"
   ]
  },
  {
   "cell_type": "code",
   "execution_count": null,
   "id": "99844d7d-157d-474c-bc9a-94e9e3131c65",
   "metadata": {},
   "outputs": [],
   "source": [
    "import getpass\n",
    "import os\n",
    "\n",
    "if \"OPENAI_API_KEY\" not in os.environ:\n",
    "    os.environ[\"OPENAI_API_KEY\"] = getpass.getpass(\"OpenAI API key:\\n\")\n",
    "if \"EXFUNC_API_KEY\" not in os.environ:\n",
    "    os.environ[\"EXFUNC_API_KEY\"] = getpass.getpass(\"Exfunc API key:\\n\")"
   ]
  },
  {
   "cell_type": "code",
   "execution_count": null,
   "id": "6f5ae712-015a-4c44-82e3-f4ad318c3e85",
   "metadata": {},
   "outputs": [],
   "source": [
    "from langchain_openai import ChatOpenAI\n",
    "from exfunc import Exfunc\n",
    "\n",
    "model = ChatOpenAI(model=\"gpt-4o-mini\")\n",
    "exfunc = Exfunc(api_key=os.getenv(\"EXFUNC_API_KEY\"))"
   ]
  },
  {
   "cell_type": "markdown",
   "id": "b8226627",
   "metadata": {},
   "source": [
    "## Step 2: Add Exfunc API as custom tools\n",
    "\n",
    "Next, we will add Exfunc API as custom tools. In this example, we added Yelp SearchBusinesses and GetBusinessReviews API."
   ]
  },
  {
   "cell_type": "code",
   "execution_count": null,
   "id": "2db7acbd-98a9-4ecf-b426-4b5342b9df4d",
   "metadata": {},
   "outputs": [],
   "source": [
    "from langchain_core.tools import tool\n",
    "\n",
    "@tool\n",
    "def search_businesses(query: str, location: str) -> list:\n",
    "    \"\"\"Search businesses on Yelp.\"\"\"\n",
    "    search_businesses_result = exfunc.yelp.search_businesses(request={\n",
    "        \"query\": query,\n",
    "        \"location\": location,\n",
    "    })\n",
    "    return search_businesses_result.businesses\n",
    "\n",
    "@tool\n",
    "def get_business_reviews(business_id: str) -> dict:\n",
    "    \"\"\"Get a list of reviews on Yelp for a given business ID.\"\"\"\n",
    "    get_business_reviews_result = exfunc.yelp.get_business_reviews(request={\n",
    "        \"business_id\": business_id,\n",
    "    })\n",
    "    return get_business_reviews_result.reviews\n",
    "\n",
    "\n",
    "tools = [search_businesses, get_business_reviews]"
   ]
  },
  {
   "cell_type": "markdown",
   "id": "27358b83",
   "metadata": {},
   "source": [
    "## Step 3: Create a pre-built ReAct agent with custom tools\n",
    "\n",
    "You can easily create a ReAct agent with custom tools using the create_react_agent helper function."
   ]
  },
  {
   "cell_type": "code",
   "execution_count": null,
   "id": "6cf0ae6d-0d6a-4c6c-93fc-7eafda707302",
   "metadata": {
    "scrolled": true
   },
   "outputs": [],
   "source": [
    "from langgraph.prebuilt import create_react_agent\n",
    "\n",
    "langgraph_agent_executor = create_react_agent(model, tools)"
   ]
  },
  {
   "cell_type": "code",
   "execution_count": null,
   "id": "06205f67-f178-446d-8106-3a9e5f4253df",
   "metadata": {},
   "outputs": [],
   "source": [
    "def print_stream(stream):\n",
    "    for s in stream:\n",
    "        message = s[\"messages\"][-1]\n",
    "        if isinstance(message, tuple):\n",
    "            print(message)\n",
    "        else:\n",
    "            message.pretty_print()"
   ]
  },
  {
   "cell_type": "code",
   "execution_count": null,
   "id": "b86480f3-4a83-44cf-9935-d7d585c84491",
   "metadata": {},
   "outputs": [],
   "source": [
    "query = \"analyze reviews of yin du wonton noodle soup in SF\"\n",
    "inputs = {\"messages\": [(\"user\", query)]}\n",
    "message = print_stream(langgraph_agent_executor.stream(inputs, stream_mode=\"values\"))"
   ]
  },
  {
   "cell_type": "markdown",
   "id": "5361b0e8-855d-4813-bcc7-3fc78f7b8d40",
   "metadata": {},
   "source": [
    "## Conclusion\n",
    "\n",
    "That's it! By following this cookbook, you can easily create a LangGraph ReAct agent using Exfunc.\n",
    "\n",
    "If you have any questions or need help, feel free to reach out to us at [Exfunc](https://exfunc.com/)."
   ]
  }
 ],
 "metadata": {
  "kernelspec": {
   "display_name": "Python 3 (ipykernel)",
   "language": "python",
   "name": "python3"
  },
  "language_info": {
   "codemirror_mode": {
    "name": "ipython",
    "version": 3
   },
   "file_extension": ".py",
   "mimetype": "text/x-python",
   "name": "python",
   "nbconvert_exporter": "python",
   "pygments_lexer": "ipython3",
   "version": "3.11.4"
  }
 },
 "nbformat": 4,
 "nbformat_minor": 5
}
