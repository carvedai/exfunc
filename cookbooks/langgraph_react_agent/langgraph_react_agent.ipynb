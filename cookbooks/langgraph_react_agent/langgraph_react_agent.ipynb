{
 "cells": [
  {
   "cell_type": "markdown",
   "id": "3e35b5e8",
   "metadata": {},
   "source": [
    "# LangGraph Agent Integration Example\n",
    "\n",
    "In this cookbook, we'll demonstrate a basic LangGraph ReAct agent integration with Exfunc."
   ]
  },
  {
   "cell_type": "markdown",
   "id": "7e1a15f3",
   "metadata": {},
   "source": [
    "## Step 1: Set up the environment\n",
    "\n",
    "First, let's install the required libraries and set up the SDK and clients."
   ]
  },
  {
   "cell_type": "code",
   "execution_count": null,
   "id": "e6644472-33a5-4a66-9acc-154ae25637c7",
   "metadata": {},
   "outputs": [],
   "source": [
    "%pip install -U langgraph langchain langchain-openai"
   ]
  },
  {
   "cell_type": "code",
   "execution_count": null,
   "id": "99844d7d-157d-474c-bc9a-94e9e3131c65",
   "metadata": {},
   "outputs": [],
   "source": [
    "import getpass\n",
    "import os\n",
    "\n",
    "if \"OPENAI_API_KEY\" not in os.environ:\n",
    "    os.environ[\"OPENAI_API_KEY\"] = getpass.getpass(\"OpenAI API key:\\n\")\n",
    "if \"EXFUNC_API_KEY\" not in os.environ:\n",
    "    os.environ[\"EXFUNC_API_KEY\"] = getpass.getpass(\"Exfunc API key:\\n\")"
   ]
  },
  {
   "cell_type": "code",
   "execution_count": null,
   "id": "35311ef8",
   "metadata": {},
   "outputs": [],
   "source": [
    "from langchain_openai import ChatOpenAI\n",
    "from exfunc import Exfunc\n",
    "\n",
    "model = ChatOpenAI(model=\"gpt-4o-mini\")\n",
    "s = Exfunc(api_key=os.getenv(\"EXFUNC_API_KEY\"))"
   ]
  },
  {
   "cell_type": "markdown",
   "id": "b8226627",
   "metadata": {},
   "source": [
    "## Step 2: Add custom tool of your choice\n",
    "\n",
    "Next, we will add a custom tool to the agent. You can freely define a custom tool through a @tool annotation. In this example, I added a simple Yelp search-businesses endpoint as a tool."
   ]
  },
  {
   "cell_type": "code",
   "execution_count": null,
   "id": "2db7acbd-98a9-4ecf-b426-4b5342b9df4d",
   "metadata": {},
   "outputs": [],
   "source": [
    "from langchain_core.tools import tool\n",
    "\n",
    "@tool\n",
    "def search_businesses(query: str, location: str) -> list:\n",
    "    \"\"\"Search businesses on Yelp.\"\"\"\n",
    "    search_businesses_result = s.yelp.search_businesses(request={\n",
    "        \"query\": query,\n",
    "        \"location\": location,\n",
    "    })\n",
    "    return search_businesses_result.businesses\n",
    "\n",
    "\n",
    "tools = [search_businesses]\n",
    "\n",
    "query = \"Search best thai restaurants in seattle\""
   ]
  },
  {
   "cell_type": "markdown",
   "id": "27358b83",
   "metadata": {},
   "source": [
    "## Step 3: Create a pre-built ReAct agent with tools\n",
    "\n",
    "Using prebuilt agent from LangGraph, you can easily add tools to the agent and invoke with user query."
   ]
  },
  {
   "cell_type": "code",
   "execution_count": null,
   "id": "6cf0ae6d-0d6a-4c6c-93fc-7eafda707302",
   "metadata": {},
   "outputs": [],
   "source": [
    "from langgraph.prebuilt import create_react_agent\n",
    "\n",
    "langgraph_agent_executor = create_react_agent(model, tools)\n",
    "\n",
    "messages = langgraph_agent_executor.invoke({\"messages\": [(\"human\", query)]})\n",
    "{\n",
    "    \"input\": query,\n",
    "    \"output\": messages[\"messages\"][-1].content,\n",
    "}"
   ]
  },
  {
   "cell_type": "markdown",
   "id": "5361b0e8-855d-4813-bcc7-3fc78f7b8d40",
   "metadata": {},
   "source": [
    "## Conclusion\n",
    "\n",
    "That's it! By following this cookbook, you can easily create a ReAct agent with LangGraph and Exfunc. You can either be simple like this example or be creative with the custom tool and wire multiple Exfunc APIs.\n",
    "\n",
    "If you have any questions or need help, feel free to reach out to us at [Exfunc](https://exfunc.com/)."
   ]
  }
 ],
 "metadata": {
  "kernelspec": {
   "display_name": "Python 3 (ipykernel)",
   "language": "python",
   "name": "python3"
  },
  "language_info": {
   "codemirror_mode": {
    "name": "ipython",
    "version": 3
   },
   "file_extension": ".py",
   "mimetype": "text/x-python",
   "name": "python",
   "nbconvert_exporter": "python",
   "pygments_lexer": "ipython3",
   "version": "3.10.9"
  }
 },
 "nbformat": 4,
 "nbformat_minor": 5
}
