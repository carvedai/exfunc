{
 "cells": [
  {
   "cell_type": "markdown",
   "id": "c133299e-b0cf-4430-9a33-cd8dbe2a4cc0",
   "metadata": {},
   "source": [
    "# Find Thai restaurants in San Francisco with 4.8+ stars and 30+ reviews\n",
    "\n",
    "Learn how to use Exfunc to find best Thai restaurants in San Francisco.\n",
    "\n",
    "## Getting Started\n",
    "\n",
    "### Install packages"
   ]
  },
  {
   "cell_type": "code",
   "execution_count": null,
   "id": "0eafa7f5-e014-4a17-9ef9-a38878ff54ab",
   "metadata": {},
   "outputs": [],
   "source": [
    "!pip install exfunc"
   ]
  },
  {
   "cell_type": "markdown",
   "id": "c5223911-4ff5-46dc-a2e8-928ec8556910",
   "metadata": {},
   "source": [
    "### Configure API keys\n",
    "\n",
    "You will need to provide API keys. You can get your Exfunc API key [here](https://exfunc.com).\n",
    "\n",
    "Ensure API key is accessible in your local environment."
   ]
  },
  {
   "cell_type": "code",
   "execution_count": null,
   "id": "4467ce63-88db-4daf-816c-cbeaaf7979d9",
   "metadata": {},
   "outputs": [],
   "source": [
    "import getpass\n",
    "import os\n",
    "\n",
    "if \"EXFUNC_API_KEY\" not in os.environ:\n",
    "    os.environ[\"EXFUNC_API_KEY\"] = getpass.getpass(\"Exfunc API key:\\n\")"
   ]
  },
  {
   "cell_type": "markdown",
   "id": "af8fe8d6-eddd-4a9a-a5cd-59b52c7bc710",
   "metadata": {},
   "source": [
    "### Configure clients"
   ]
  },
  {
   "cell_type": "code",
   "execution_count": null,
   "id": "16e40d4c-6bd8-4775-ab82-3e31c631b816",
   "metadata": {},
   "outputs": [],
   "source": [
    "from exfunc import Exfunc\n",
    "\n",
    "exfunc = Exfunc()"
   ]
  },
  {
   "cell_type": "markdown",
   "id": "757dd520-cf4f-4fa9-827d-ab1ce5726af5",
   "metadata": {},
   "source": [
    "## Finding best rated Thai restaurants in San Francisco\n",
    "\n",
    "### Search Thai restaurants in San Francisco"
   ]
  },
  {
   "cell_type": "code",
   "execution_count": null,
   "id": "52663b2c-3b9d-45be-bd39-b3e655efe357",
   "metadata": {},
   "outputs": [],
   "source": [
    "num_pages = 3\n",
    "business_ids = []\n",
    "for i in range(num_pages):\n",
    "    search_results = exfunc.yelp.search_businesses(request={\n",
    "        \"query\": \"thai\",\n",
    "        \"location\": \"san francisco\",\n",
    "        \"sort_by\": \"highest_rated\",\n",
    "        \"start\": 10*i,\n",
    "    })\n",
    "    business_ids += [business.business_id for business in search_results.businesses]"
   ]
  },
  {
   "cell_type": "markdown",
   "id": "52192fb1-255d-46ba-a624-0dce1d87a682",
   "metadata": {},
   "source": [
    "### Get business information\n",
    "\n",
    "We will get business information by calling Yelp GetBusiness API for each business."
   ]
  },
  {
   "cell_type": "code",
   "execution_count": null,
   "id": "2846908c-e87b-490c-b0dd-9852b0cfa18e",
   "metadata": {},
   "outputs": [],
   "source": [
    "from concurrent.futures import ThreadPoolExecutor\n",
    "\n",
    "def get_business(business_id):\n",
    "    try:\n",
    "        response = exfunc.yelp.get_business(request={\"business_id\": business_id})\n",
    "        return response.business\n",
    "    except:\n",
    "        return None\n",
    "\n",
    "businesses = []\n",
    "with ThreadPoolExecutor(max_workers=min(10, len(business_ids))) as executor:\n",
    "    for business in executor.map(get_business, business_ids):\n",
    "        if business:\n",
    "            businesses.append(business)"
   ]
  },
  {
   "cell_type": "markdown",
   "id": "3e41a9d3-4c8e-4b8c-adb7-deda881dcb46",
   "metadata": {},
   "source": [
    "### Filter businesses with 4.8+ rating and 30+ reviews"
   ]
  },
  {
   "cell_type": "code",
   "execution_count": null,
   "id": "d49ad4bc-2a4b-4e0a-8e32-fc13ed8dccc2",
   "metadata": {},
   "outputs": [],
   "source": [
    "filtered_businesses = []\n",
    "for business in businesses:\n",
    "    if business.rating and business.rating >= 4.8 and business.review_count and business.review_count >= 30:\n",
    "        filtered_businesses.append(business)"
   ]
  },
  {
   "cell_type": "markdown",
   "id": "d1c26688-abe0-4811-b839-07e9b1c86279",
   "metadata": {},
   "source": [
    "### View results"
   ]
  },
  {
   "cell_type": "code",
   "execution_count": null,
   "id": "8f43e88d-c491-499d-80ac-4a79dd27059e",
   "metadata": {},
   "outputs": [],
   "source": [
    "import pandas as pd\n",
    "\n",
    "records = [business.model_dump() for business in filtered_businesses]\n",
    "\n",
    "df = pd.DataFrame.from_records(records)\n",
    "df"
   ]
  }
 ],
 "metadata": {
  "kernelspec": {
   "display_name": "Python 3 (ipykernel)",
   "language": "python",
   "name": "python3"
  },
  "language_info": {
   "codemirror_mode": {
    "name": "ipython",
    "version": 3
   },
   "file_extension": ".py",
   "mimetype": "text/x-python",
   "name": "python",
   "nbconvert_exporter": "python",
   "pygments_lexer": "ipython3",
   "version": "3.11.4"
  }
 },
 "nbformat": 4,
 "nbformat_minor": 5
}
