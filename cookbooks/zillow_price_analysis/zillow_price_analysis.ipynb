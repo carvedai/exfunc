{
 "cells": [
  {
   "cell_type": "markdown",
   "id": "b61a30a0-a828-4ddb-9ac6-10946764e60b",
   "metadata": {},
   "source": [
    "# Analyze SF property prices on Zillow\n",
    "\n",
    "Learn how to use Exfunc and OpenAI to analyze property prices on Zillow\n",
    "\n",
    "## Getting Started\n",
    "\n",
    "### Install packages"
   ]
  },
  {
   "cell_type": "code",
   "execution_count": null,
   "id": "5788e953-2c35-4433-8c84-5dc44b576b84",
   "metadata": {},
   "outputs": [],
   "source": [
    "!pip install exfunc openai"
   ]
  },
  {
   "cell_type": "markdown",
   "id": "841d191a-1b7c-4f47-ba24-ba6020c799fd",
   "metadata": {},
   "source": [
    "### Configure API keys\n",
    "\n",
    "You will need to provide API keys. You can get your Exfunc API key [here](https://exfunc.com) and your OpenAI API key [here](https://www.openai.com/).\n",
    "\n",
    "Ensure both API keys are accessible in your local environment."
   ]
  },
  {
   "cell_type": "code",
   "execution_count": null,
   "id": "04a5703c-5ca9-46a2-aa39-e7de4a3a9610",
   "metadata": {},
   "outputs": [],
   "source": [
    "import getpass\n",
    "import os\n",
    "\n",
    "if \"OPENAI_API_KEY\" not in os.environ:\n",
    "    os.environ[\"OPENAI_API_KEY\"] = getpass.getpass(\"OpenAI API key:\\n\")\n",
    "if \"EXFUNC_API_KEY\" not in os.environ:\n",
    "    os.environ[\"EXFUNC_API_KEY\"] = getpass.getpass(\"Exfunc API key:\\n\")"
   ]
  },
  {
   "cell_type": "markdown",
   "id": "8624dc63-718c-48bc-98dc-5e60897430c8",
   "metadata": {},
   "source": [
    "### Configure clients"
   ]
  },
  {
   "cell_type": "code",
   "execution_count": null,
   "id": "dfd1e473-ebce-48aa-8afd-811c8029f82a",
   "metadata": {},
   "outputs": [],
   "source": [
    "from exfunc import Exfunc\n",
    "from openai import OpenAI\n",
    "\n",
    "exfunc = Exfunc()\n",
    "openai = OpenAI()"
   ]
  },
  {
   "cell_type": "markdown",
   "id": "04a515ab-1888-4a8c-8fbd-9e3f0e15f03a",
   "metadata": {},
   "source": [
    "## Analyzing property prices on Zillow\n",
    "\n",
    "### Search properties"
   ]
  },
  {
   "cell_type": "code",
   "execution_count": null,
   "id": "f94a0ec4-7371-4f41-a42f-614b61d83d18",
   "metadata": {},
   "outputs": [],
   "source": [
    "search_properties_response = exfunc.zillow.search_properties(request={\n",
    "    \"location\": \"san francisco\",\n",
    "    \"listing_status\": \"for_sale\",\n",
    "    \"page\": 1,\n",
    "})\n",
    "property_ids = [p.property_id for p in search_properties_response.properties[:30]]"
   ]
  },
  {
   "cell_type": "markdown",
   "id": "0e94bc9e-b536-43d5-aa55-03087caee557",
   "metadata": {},
   "source": [
    "### Get properties"
   ]
  },
  {
   "cell_type": "code",
   "execution_count": null,
   "id": "56b8cbf6-049f-4f2f-98f5-fee7ef04856f",
   "metadata": {},
   "outputs": [],
   "source": [
    "from concurrent.futures import ThreadPoolExecutor\n",
    "\n",
    "def get_property(property_id):\n",
    "    try:\n",
    "        response = exfunc.zillow.get_property(request={\"property_id\": str(property_id)})\n",
    "        return response.property\n",
    "    except Exception as e:\n",
    "        return None\n",
    "\n",
    "properties = []\n",
    "with ThreadPoolExecutor(max_workers=min(10, len(property_ids))) as executor:\n",
    "    for p in executor.map(get_property, property_ids):\n",
    "        if p:\n",
    "            properties.append(p)"
   ]
  },
  {
   "cell_type": "markdown",
   "id": "16d7178f-dd9e-446a-9558-51dd0eaa7b75",
   "metadata": {},
   "source": [
    "### Analyze properties"
   ]
  },
  {
   "cell_type": "code",
   "execution_count": null,
   "id": "2b441280-0bb0-436d-b4bd-ef92bdf743cf",
   "metadata": {
    "scrolled": true
   },
   "outputs": [],
   "source": [
    "import json\n",
    "\n",
    "properties_str = \"\\n\\n\".join([json.dumps({k: v for k, v in p.model_dump().items() if k != \"photos\"}) for p in properties])\n",
    "\n",
    "prompt = f\"Analyze property prices based on the following documents.\\n\\nDocuments:\\n{properties_str}\"\n",
    "\n",
    "response = openai.chat.completions.create(\n",
    "    model=\"gpt-4o-mini\",\n",
    "    messages=[{\"role\": \"user\", \"content\": prompt}],\n",
    "    temperature=0\n",
    ")\n",
    "\n",
    "completion = response.choices[0].message.content.strip()"
   ]
  },
  {
   "cell_type": "code",
   "execution_count": null,
   "id": "30bc3dae-d9c6-45f5-a52f-c9a3c0417027",
   "metadata": {},
   "outputs": [],
   "source": [
    "from IPython.display import display, Markdown\n",
    "\n",
    "display(Markdown(completion))"
   ]
  }
 ],
 "metadata": {
  "kernelspec": {
   "display_name": "Python 3 (ipykernel)",
   "language": "python",
   "name": "python3"
  },
  "language_info": {
   "codemirror_mode": {
    "name": "ipython",
    "version": 3
   },
   "file_extension": ".py",
   "mimetype": "text/x-python",
   "name": "python",
   "nbconvert_exporter": "python",
   "pygments_lexer": "ipython3",
   "version": "3.11.4"
  }
 },
 "nbformat": 4,
 "nbformat_minor": 5
}
