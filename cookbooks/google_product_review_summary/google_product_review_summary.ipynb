{
 "cells": [
  {
   "cell_type": "markdown",
   "id": "1028fac0-1245-41c1-bb16-8ad999f592e1",
   "metadata": {},
   "source": [
    "# Summarize Google product reviews of AirPods Max\n",
    "\n",
    "Learn how to use Exfunc and OpenAI to summary Google product reviews.\n",
    "\n",
    "## Getting Started\n",
    "\n",
    "### Install packages"
   ]
  },
  {
   "cell_type": "code",
   "execution_count": null,
   "id": "83572339-26e8-4ce6-a45a-0fd1915531b2",
   "metadata": {},
   "outputs": [],
   "source": [
    "!pip install exfunc openai"
   ]
  },
  {
   "cell_type": "markdown",
   "id": "0dc7d95a-547e-4940-b561-05e7b78c6c44",
   "metadata": {},
   "source": [
    "### Configure API keys\n",
    "\n",
    "You will need to provide API keys. You can get your Exfunc API key [here](https://exfunc.com) and your OpenAI API key [here](https://www.openai.com/).\n",
    "\n",
    "Ensure both API keys are accessible in your local environment.\n"
   ]
  },
  {
   "cell_type": "code",
   "execution_count": null,
   "id": "db5f59e7-6611-47c2-8341-1c6e9b77b718",
   "metadata": {},
   "outputs": [],
   "source": [
    "import getpass\n",
    "import os\n",
    "\n",
    "if \"OPENAI_API_KEY\" not in os.environ:\n",
    "    os.environ[\"OPENAI_API_KEY\"] = getpass.getpass(\"OpenAI API key:\\n\")\n",
    "if \"EXFUNC_API_KEY\" not in os.environ:\n",
    "    os.environ[\"EXFUNC_API_KEY\"] = getpass.getpass(\"Exfunc API key:\\n\")"
   ]
  },
  {
   "cell_type": "markdown",
   "id": "18327a82-f8c3-49e7-8688-604673ff292a",
   "metadata": {},
   "source": [
    "### Configure clients"
   ]
  },
  {
   "cell_type": "code",
   "execution_count": null,
   "id": "ab52d094-2a6a-42ad-875d-dcf552b8a2e7",
   "metadata": {},
   "outputs": [],
   "source": [
    "from exfunc import Exfunc\n",
    "from openai import OpenAI\n",
    "\n",
    "exfunc = Exfunc()\n",
    "openai = OpenAI()"
   ]
  },
  {
   "cell_type": "markdown",
   "id": "cd9ae652-ccdc-4020-b11e-044ff8e08026",
   "metadata": {},
   "source": [
    "## Summarizing Google product reviews\n",
    "\n",
    "### Search product"
   ]
  },
  {
   "cell_type": "code",
   "execution_count": null,
   "id": "23d78d49-8809-4cab-9039-2e852532616c",
   "metadata": {},
   "outputs": [],
   "source": [
    "search_products_result = exfunc.google.search_products(request={\n",
    "    \"query\": \"airpods max\",\n",
    "})"
   ]
  },
  {
   "cell_type": "markdown",
   "id": "f21ce200-1821-4701-9dfe-c39d225b0099",
   "metadata": {},
   "source": [
    "### Get reviews"
   ]
  },
  {
   "cell_type": "code",
   "execution_count": null,
   "id": "19733f10-e49b-42ad-aa05-ae89043bff05",
   "metadata": {},
   "outputs": [],
   "source": [
    "product_id = search_products_result.products[0].product_id\n",
    "\n",
    "get_product_reviews_result = exfunc.google.get_product_reviews(request={\n",
    "    \"product_id\": product_id,\n",
    "})"
   ]
  },
  {
   "cell_type": "markdown",
   "id": "583de751-18eb-4167-b31f-a54db119cc36",
   "metadata": {},
   "source": [
    "### Generate summary"
   ]
  },
  {
   "cell_type": "code",
   "execution_count": null,
   "id": "ff538aef-ac8a-4393-bc77-d0c81a73a9e5",
   "metadata": {
    "scrolled": true
   },
   "outputs": [],
   "source": [
    "prompt = f\"Generate a report of sentiment analysis and other key information from these product reviews.\\n\\nReviews:\\n{get_product_reviews_result.reviews}\\n\"\n",
    "\n",
    "response = openai.chat.completions.create(\n",
    "    model=\"gpt-4o-mini\",\n",
    "    messages=[{\"role\": \"user\", \"content\": prompt}],\n",
    "    temperature=0\n",
    ")\n",
    "\n",
    "completion = response.choices[0].message.content.strip()"
   ]
  },
  {
   "cell_type": "code",
   "execution_count": null,
   "id": "8b8ebe5a-1ab6-4b96-b813-b17ce94bae37",
   "metadata": {},
   "outputs": [],
   "source": [
    "from IPython.display import display, Markdown\n",
    "\n",
    "display(Markdown(completion))"
   ]
  }
 ],
 "metadata": {
  "kernelspec": {
   "display_name": "Python 3 (ipykernel)",
   "language": "python",
   "name": "python3"
  },
  "language_info": {
   "codemirror_mode": {
    "name": "ipython",
    "version": 3
   },
   "file_extension": ".py",
   "mimetype": "text/x-python",
   "name": "python",
   "nbconvert_exporter": "python",
   "pygments_lexer": "ipython3",
   "version": "3.11.4"
  }
 },
 "nbformat": 4,
 "nbformat_minor": 5
}
