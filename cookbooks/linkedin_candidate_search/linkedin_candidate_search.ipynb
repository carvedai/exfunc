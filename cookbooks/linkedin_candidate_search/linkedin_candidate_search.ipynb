{
 "cells": [
  {
   "cell_type": "markdown",
   "id": "e038c714-9952-495d-b7c4-38ac21b96d95",
   "metadata": {},
   "source": [
    "# Find software engineers in SF with 10+ years of full-time experience\n",
    "\n",
    "Learn how to use Exfunc and OpenAI to find candidates on LinkedIn\n",
    "\n",
    "## Getting Started\n",
    "\n",
    "### Install packages"
   ]
  },
  {
   "cell_type": "code",
   "execution_count": null,
   "id": "fe046cdc-7cc9-40bf-81b2-83177ebb950a",
   "metadata": {},
   "outputs": [],
   "source": [
    "!pip install exfunc openai"
   ]
  },
  {
   "cell_type": "markdown",
   "id": "3123ce2f-345b-4d14-8b2b-f39252efdd57",
   "metadata": {},
   "source": [
    "### Configure API keys\n",
    "\n",
    "You will need to provide API keys. You can get your Exfunc API key [here](https://exfunc.com) and your OpenAI API key [here](https://www.openai.com/).\n",
    "\n",
    "Ensure both API keys are accessible in your local environment."
   ]
  },
  {
   "cell_type": "code",
   "execution_count": null,
   "id": "3ecc16e9-4162-407b-b742-d603dde0f0de",
   "metadata": {},
   "outputs": [],
   "source": [
    "import getpass\n",
    "import os\n",
    "\n",
    "if \"OPENAI_API_KEY\" not in os.environ:\n",
    "    os.environ[\"OPENAI_API_KEY\"] = getpass.getpass(\"OpenAI API key:\\n\")\n",
    "if \"EXFUNC_API_KEY\" not in os.environ:\n",
    "    os.environ[\"EXFUNC_API_KEY\"] = getpass.getpass(\"Exfunc API key:\\n\")"
   ]
  },
  {
   "cell_type": "markdown",
   "id": "e20a036d-fa31-4900-a674-a440361ed00f",
   "metadata": {},
   "source": [
    "### Configure clients"
   ]
  },
  {
   "cell_type": "code",
   "execution_count": null,
   "id": "fe32e5f6-e263-4fcb-8846-8b6c570989bf",
   "metadata": {},
   "outputs": [],
   "source": [
    "from exfunc import Exfunc\n",
    "from openai import OpenAI\n",
    "\n",
    "exfunc = Exfunc()\n",
    "openai = OpenAI()"
   ]
  },
  {
   "cell_type": "markdown",
   "id": "134c0c89-b0f5-486d-9334-8ae08d4298ca",
   "metadata": {},
   "source": [
    "## Finding candidates\n",
    "\n",
    "### Search people"
   ]
  },
  {
   "cell_type": "code",
   "execution_count": null,
   "id": "8355bd21-f604-4ef9-bdf5-c9d2e2e4c3f4",
   "metadata": {},
   "outputs": [],
   "source": [
    "search_people_response = exfunc.linkedin.search_people(request={\n",
    "    \"keywords\": \"software engineer\",\n",
    "    \"locations\": [\"san francisco\"]\n",
    "})\n",
    "people = [p.model_dump() for p in search_people_response.people][:20]"
   ]
  },
  {
   "cell_type": "markdown",
   "id": "78eb364a-d349-4d02-8cda-9aaf25002c33",
   "metadata": {},
   "source": [
    "### Filter experiences"
   ]
  },
  {
   "cell_type": "code",
   "execution_count": null,
   "id": "68e2b464-b48b-4249-9d8e-176928a51b68",
   "metadata": {},
   "outputs": [],
   "source": [
    "from concurrent.futures import ThreadPoolExecutor\n",
    "\n",
    "def qualify_experience(experience):\n",
    "    target_description = \"full-time job\"\n",
    "    job_title = experience[\"title\"]\n",
    "    prompt = f'Answer True or False: Does \"{job_title}\" match the description: \"{target_description}\"?\\n'\n",
    "    messages = [{\"role\": \"user\", \"content\": prompt}]\n",
    "    response = openai.chat.completions.create(messages=messages, temperature=0, model=\"gpt-4o-mini\")\n",
    "    completion = response.choices[0].message.content.strip()\n",
    "    return \"true\" in completion.lower()\n",
    "\n",
    "for p in people:\n",
    "    experiences = p[\"experiences\"]\n",
    "\n",
    "    ft_experiences = []\n",
    "    with ThreadPoolExecutor(max_workers=min(10, len(experiences))) as executor:\n",
    "        for i, is_qualified in enumerate(executor.map(qualify_experience, experiences)):\n",
    "            if is_qualified:\n",
    "                ft_experiences.append(experiences[i])\n",
    "\n",
    "    p[\"ft_experiences\"] = ft_experiences"
   ]
  },
  {
   "cell_type": "markdown",
   "id": "4783f6a0-011c-4283-bd92-9f5bbf1b09e7",
   "metadata": {},
   "source": [
    "### Calculate years of experience"
   ]
  },
  {
   "cell_type": "code",
   "execution_count": null,
   "id": "b87f6345-e5d0-485d-945e-2c50b49ae20e",
   "metadata": {},
   "outputs": [],
   "source": [
    "from datetime import datetime\n",
    "\n",
    "def calculate_years_of_experience(experiences):\n",
    "    total_months = 0\n",
    "\n",
    "    for exp in experiences:\n",
    "        start_date = datetime.strptime(exp['start_date'], \"%Y-%m-%d\")\n",
    "        end_date = datetime.strptime(exp['end_date'], \"%Y-%m-%d\") if exp['end_date'] else datetime.now()\n",
    "        \n",
    "        # Calculate the number of months between start and end dates\n",
    "        months_diff = (end_date.year - start_date.year) * 12 + (end_date.month - start_date.month)\n",
    "        total_months += months_diff\n",
    "\n",
    "    # Convert months to years\n",
    "    years_of_experience = total_months / 12\n",
    "    return years_of_experience\n",
    "\n",
    "for p in people:\n",
    "    p[\"ft_yoe\"] = calculate_years_of_experience(p[\"ft_experiences\"])"
   ]
  },
  {
   "cell_type": "markdown",
   "id": "43c7c4ab-6872-49c2-a49d-d7921d9ed13c",
   "metadata": {},
   "source": [
    "### Filter people"
   ]
  },
  {
   "cell_type": "code",
   "execution_count": null,
   "id": "84686220-c5a2-4710-b4e9-f45880115713",
   "metadata": {
    "scrolled": true
   },
   "outputs": [],
   "source": [
    "import pandas as pd\n",
    "\n",
    "min_ft_yoe = 10\n",
    "\n",
    "result = []\n",
    "for p in people:\n",
    "    if p[\"ft_yoe\"] >= min_ft_yoe:\n",
    "        result.append(p)\n",
    "\n",
    "df = pd.DataFrame.from_records(result)\n",
    "df[[\"url\", \"name\", \"location\", \"title\", \"company_name\", \"ft_yoe\"]]"
   ]
  }
 ],
 "metadata": {
  "kernelspec": {
   "display_name": "Python 3 (ipykernel)",
   "language": "python",
   "name": "python3"
  },
  "language_info": {
   "codemirror_mode": {
    "name": "ipython",
    "version": 3
   },
   "file_extension": ".py",
   "mimetype": "text/x-python",
   "name": "python",
   "nbconvert_exporter": "python",
   "pygments_lexer": "ipython3",
   "version": "3.11.4"
  }
 },
 "nbformat": 4,
 "nbformat_minor": 5
}
